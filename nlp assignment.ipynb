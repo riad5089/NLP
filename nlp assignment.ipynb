{
 "cells": [
  {
   "cell_type": "code",
   "execution_count": 1,
   "id": "5931fcba",
   "metadata": {},
   "outputs": [
    {
     "name": "stderr",
     "output_type": "stream",
     "text": [
      "C:\\Users\\Abdur rahim nishad\\anaconda3\\lib\\site-packages\\numpy\\_distributor_init.py:30: UserWarning: loaded more than 1 DLL from .libs:\n",
      "C:\\Users\\Abdur rahim nishad\\anaconda3\\lib\\site-packages\\numpy\\.libs\\libopenblas.EL2C6PLE4ZYW3ECEVIV3OXXGRN2NRFM2.gfortran-win_amd64.dll\n",
      "C:\\Users\\Abdur rahim nishad\\anaconda3\\lib\\site-packages\\numpy\\.libs\\libopenblas.XWYDX2IKJW2NMTWSFYNGFUWKQU3LYTCZ.gfortran-win_amd64.dll\n",
      "  warnings.warn(\"loaded more than 1 DLL from .libs:\"\n"
     ]
    }
   ],
   "source": [
    "import pandas as pd"
   ]
  },
  {
   "cell_type": "code",
   "execution_count": 2,
   "id": "60fc5f61",
   "metadata": {},
   "outputs": [],
   "source": [
    "df=pd.read_csv(\"movies.csv\")"
   ]
  },
  {
   "cell_type": "code",
   "execution_count": 3,
   "id": "3b32b167",
   "metadata": {},
   "outputs": [
    {
     "data": {
      "text/html": [
       "<div>\n",
       "<style scoped>\n",
       "    .dataframe tbody tr th:only-of-type {\n",
       "        vertical-align: middle;\n",
       "    }\n",
       "\n",
       "    .dataframe tbody tr th {\n",
       "        vertical-align: top;\n",
       "    }\n",
       "\n",
       "    .dataframe thead th {\n",
       "        text-align: right;\n",
       "    }\n",
       "</style>\n",
       "<table border=\"1\" class=\"dataframe\">\n",
       "  <thead>\n",
       "    <tr style=\"text-align: right;\">\n",
       "      <th></th>\n",
       "      <th>Unnamed: 0</th>\n",
       "      <th>id</th>\n",
       "      <th>title</th>\n",
       "      <th>overview</th>\n",
       "      <th>release_date</th>\n",
       "      <th>popularity</th>\n",
       "      <th>vote_average</th>\n",
       "      <th>vote_count</th>\n",
       "    </tr>\n",
       "  </thead>\n",
       "  <tbody>\n",
       "    <tr>\n",
       "      <th>0</th>\n",
       "      <td>0</td>\n",
       "      <td>995133</td>\n",
       "      <td>The Boy, the Mole, the Fox and the Horse</td>\n",
       "      <td>The unlikely friendship of a boy, a mole, a fo...</td>\n",
       "      <td>2022-12-25</td>\n",
       "      <td>28.858</td>\n",
       "      <td>8.7</td>\n",
       "      <td>205</td>\n",
       "    </tr>\n",
       "    <tr>\n",
       "      <th>1</th>\n",
       "      <td>1</td>\n",
       "      <td>238</td>\n",
       "      <td>The Godfather</td>\n",
       "      <td>Spanning the years 1945 to 1955, a chronicle o...</td>\n",
       "      <td>1972-03-14</td>\n",
       "      <td>88.334</td>\n",
       "      <td>8.7</td>\n",
       "      <td>17435</td>\n",
       "    </tr>\n",
       "    <tr>\n",
       "      <th>2</th>\n",
       "      <td>2</td>\n",
       "      <td>278</td>\n",
       "      <td>The Shawshank Redemption</td>\n",
       "      <td>Framed in the 1940s for the double murder of h...</td>\n",
       "      <td>1994-09-23</td>\n",
       "      <td>111.799</td>\n",
       "      <td>8.7</td>\n",
       "      <td>23246</td>\n",
       "    </tr>\n",
       "    <tr>\n",
       "      <th>3</th>\n",
       "      <td>3</td>\n",
       "      <td>240</td>\n",
       "      <td>The Godfather Part II</td>\n",
       "      <td>In the continuing saga of the Corleone crime f...</td>\n",
       "      <td>1974-12-20</td>\n",
       "      <td>47.723</td>\n",
       "      <td>8.6</td>\n",
       "      <td>10557</td>\n",
       "    </tr>\n",
       "    <tr>\n",
       "      <th>4</th>\n",
       "      <td>4</td>\n",
       "      <td>424</td>\n",
       "      <td>Schindler's List</td>\n",
       "      <td>The true story of how businessman Oskar Schind...</td>\n",
       "      <td>1993-12-15</td>\n",
       "      <td>44.329</td>\n",
       "      <td>8.6</td>\n",
       "      <td>13732</td>\n",
       "    </tr>\n",
       "  </tbody>\n",
       "</table>\n",
       "</div>"
      ],
      "text/plain": [
       "   Unnamed: 0      id                                     title  \\\n",
       "0           0  995133  The Boy, the Mole, the Fox and the Horse   \n",
       "1           1     238                             The Godfather   \n",
       "2           2     278                  The Shawshank Redemption   \n",
       "3           3     240                     The Godfather Part II   \n",
       "4           4     424                          Schindler's List   \n",
       "\n",
       "                                            overview release_date  popularity  \\\n",
       "0  The unlikely friendship of a boy, a mole, a fo...   2022-12-25      28.858   \n",
       "1  Spanning the years 1945 to 1955, a chronicle o...   1972-03-14      88.334   \n",
       "2  Framed in the 1940s for the double murder of h...   1994-09-23     111.799   \n",
       "3  In the continuing saga of the Corleone crime f...   1974-12-20      47.723   \n",
       "4  The true story of how businessman Oskar Schind...   1993-12-15      44.329   \n",
       "\n",
       "   vote_average  vote_count  \n",
       "0           8.7         205  \n",
       "1           8.7       17435  \n",
       "2           8.7       23246  \n",
       "3           8.6       10557  \n",
       "4           8.6       13732  "
      ]
     },
     "execution_count": 3,
     "metadata": {},
     "output_type": "execute_result"
    }
   ],
   "source": [
    "df.head()"
   ]
  },
  {
   "cell_type": "code",
   "execution_count": 4,
   "id": "5cc171a3",
   "metadata": {},
   "outputs": [
    {
     "data": {
      "text/plain": [
       "(8560, 8)"
      ]
     },
     "execution_count": 4,
     "metadata": {},
     "output_type": "execute_result"
    }
   ],
   "source": [
    "df.shape"
   ]
  },
  {
   "cell_type": "code",
   "execution_count": 5,
   "id": "ca693de7",
   "metadata": {},
   "outputs": [
    {
     "data": {
      "text/plain": [
       "'The Boy, the Mole, the Fox and the Horse'"
      ]
     },
     "execution_count": 5,
     "metadata": {},
     "output_type": "execute_result"
    }
   ],
   "source": [
    "df[\"title\"][0]"
   ]
  },
  {
   "cell_type": "code",
   "execution_count": 6,
   "id": "1a647269",
   "metadata": {},
   "outputs": [
    {
     "data": {
      "text/plain": [
       "'The unlikely friendship of a boy, a mole, a fox and a horse traveling together in the boy’s search for home.'"
      ]
     },
     "execution_count": 6,
     "metadata": {},
     "output_type": "execute_result"
    }
   ],
   "source": [
    "df[\"overview\"][0]"
   ]
  },
  {
   "cell_type": "code",
   "execution_count": 7,
   "id": "f1aed45e",
   "metadata": {},
   "outputs": [],
   "source": [
    "df[\"overview\"]=df[\"overview\"].str.lower()"
   ]
  },
  {
   "cell_type": "markdown",
   "id": "13562dab",
   "metadata": {},
   "source": [
    "# Lowercasing"
   ]
  },
  {
   "cell_type": "code",
   "execution_count": 8,
   "id": "445c343b",
   "metadata": {},
   "outputs": [
    {
     "data": {
      "text/plain": [
       "'the unlikely friendship of a boy, a mole, a fox and a horse traveling together in the boy’s search for home.'"
      ]
     },
     "execution_count": 8,
     "metadata": {},
     "output_type": "execute_result"
    }
   ],
   "source": [
    "df[\"overview\"][0]"
   ]
  },
  {
   "cell_type": "markdown",
   "id": "bea1b885",
   "metadata": {},
   "source": [
    "# html_tag_remove"
   ]
  },
  {
   "cell_type": "code",
   "execution_count": 9,
   "id": "87e9d2af",
   "metadata": {},
   "outputs": [],
   "source": [
    "import re"
   ]
  },
  {
   "cell_type": "code",
   "execution_count": 10,
   "id": "52c03fc1",
   "metadata": {},
   "outputs": [],
   "source": [
    "def html_remove(text):\n",
    "    pattern=re.compile('<.*?>')\n",
    "    return pattern.sub(r'',text)"
   ]
  },
  {
   "cell_type": "code",
   "execution_count": 11,
   "id": "e441439b",
   "metadata": {},
   "outputs": [],
   "source": [
    "df[\"overview\"]=df[\"overview\"].apply(html_remove)"
   ]
  },
  {
   "cell_type": "markdown",
   "id": "3d136e65",
   "metadata": {},
   "source": [
    "# removing url"
   ]
  },
  {
   "cell_type": "code",
   "execution_count": 12,
   "id": "ce18d41e",
   "metadata": {},
   "outputs": [],
   "source": [
    "def remove_url(text):\n",
    "#      pattern = re.compile(r'https?://\\S+|www\\.\\S+')\n",
    "#     return pattern.sub(r'', text)\n",
    "#     return re.sub(r'http\\S+', '',text)\n",
    "    return re.sub(r'https?://\\S+|www\\.\\S+','',text)"
   ]
  },
  {
   "cell_type": "code",
   "execution_count": 13,
   "id": "3f92f68f",
   "metadata": {},
   "outputs": [],
   "source": [
    "df[\"overview\"]=df[\"overview\"].apply(remove_url)"
   ]
  },
  {
   "cell_type": "markdown",
   "id": "a9acef36",
   "metadata": {},
   "source": [
    "# removing punstuation worst case"
   ]
  },
  {
   "cell_type": "code",
   "execution_count": 14,
   "id": "11d6aa6a",
   "metadata": {},
   "outputs": [],
   "source": [
    "import string"
   ]
  },
  {
   "cell_type": "code",
   "execution_count": 15,
   "id": "bbad6af2",
   "metadata": {},
   "outputs": [],
   "source": [
    "exlcude=string.punctuation"
   ]
  },
  {
   "cell_type": "code",
   "execution_count": 16,
   "id": "d6d4ccc7",
   "metadata": {},
   "outputs": [],
   "source": [
    "def removepunc(text):\n",
    "    for char in exlcude:\n",
    "        text=text.replace(char,\"\")\n",
    "    return text"
   ]
  },
  {
   "cell_type": "code",
   "execution_count": 17,
   "id": "845cc016",
   "metadata": {},
   "outputs": [],
   "source": [
    "df[\"overview\"]=df[\"overview\"].apply(removepunc)"
   ]
  },
  {
   "cell_type": "code",
   "execution_count": 18,
   "id": "7e6ea83d",
   "metadata": {},
   "outputs": [
    {
     "data": {
      "text/plain": [
       "'the unlikely friendship of a boy a mole a fox and a horse traveling together in the boy’s search for home'"
      ]
     },
     "execution_count": 18,
     "metadata": {},
     "output_type": "execute_result"
    }
   ],
   "source": [
    "df[\"overview\"][0]"
   ]
  },
  {
   "cell_type": "markdown",
   "id": "c66c20f7",
   "metadata": {},
   "source": [
    "# removing punstuation good case"
   ]
  },
  {
   "cell_type": "code",
   "execution_count": 19,
   "id": "41def987",
   "metadata": {},
   "outputs": [],
   "source": [
    "def removepunc(text):\n",
    "    return text.translate(str.maketrans('','',exlcude))"
   ]
  },
  {
   "cell_type": "code",
   "execution_count": 20,
   "id": "f197684b",
   "metadata": {},
   "outputs": [],
   "source": [
    "df[\"overview\"]=df[\"overview\"].apply(removepunc)"
   ]
  },
  {
   "cell_type": "markdown",
   "id": "df91b704",
   "metadata": {},
   "source": [
    "# chat word treatment"
   ]
  },
  {
   "cell_type": "code",
   "execution_count": 21,
   "id": "433d6a00",
   "metadata": {},
   "outputs": [],
   "source": [
    "chat_words={\"AAFAIK\": \"As Far As I Know\",\n",
    "\"AFK\": \"Away From Keyboard\",\n",
    "\"ASAP\": \"As Soon As Possible\",\n",
    "\"ATK\": \"At The Keyboard\",\n",
    "\"ATM\": \"At The Moment\",\n",
    "\"A3\": \"Anytime, Anywhere, Anyplace\",\n",
    "\"BAK\": \"Back At Keyboard\",\n",
    "\"BBL\": \"Be Back Later\",\n",
    "\"BBS\": \"Be Back Soon\",\n",
    "\"BFN\": \"Bye For Now\",\n",
    "\"B4N\": \"Bye For Now\",\n",
    "\"BRB\": \"Be Right Back\",\n",
    "\"BRT\": \"Be Right There\",\n",
    "\"BTW\": \"By The Way\",\n",
    "\"B4\": \"Before\",\n",
    "\"B4N\": \"Bye For Now\",\n",
    "\"CU\": \"See You\",\n",
    "\"CUL8R\": \"See You Later\",\n",
    "\"CYA\": \"See You\",\n",
    "\"FAQ\": \"Frequently Asked Questions\",\n",
    "\"FC\": \"Fingers Crossed\",\n",
    "\"FWIW\": \"For What It's Worth\",\n",
    "\"FYI\": \"For Your Information\",\n",
    "\"GAL\": \"Get A Life\",\n",
    "\"GG\": \"Good Game\",\n",
    "\"GN\": \"Good Night\",\n",
    "\"GMTA\": \"Great Minds Think Alike\",\n",
    "\"GR8\": \"Great!\",\n",
    "\"G9\": \"Genius\",\n",
    "\"IC\": \"I See\",\n",
    "\"ICQ\": \"I Seek you (also a chat program)\",\n",
    "\"ILU\": \"ILU: I Love You\",\n",
    "\"IMHO\": \"In My Honest/Humble Opinion\",\n",
    "\"IMO\": \"In My Opinion\",\n",
    "\"IOW\": \"In Other Words\",\n",
    "\"IRL\": \"In Real Life\",\n",
    "\"KISS\": \"Keep It Simple, Stupid\",\n",
    "\"LDR\": \"Long Distance Relationship\",\n",
    "\"LMAO\": \"Laugh My A.. Off\",\n",
    "\"LOL\": \"Laughing Out Loud\",\n",
    "\"LTNS\": \"Long Time No See\",\n",
    "\"L8R\": \"Later\",\n",
    "\"MTE\": \"My Thoughts Exactly\",\n",
    "\"M8\": \"ate\",\n",
    "\"NRN\": \"No Reply Necessary\",\n",
    "\"OIC\": \"Oh I See\",\n",
    "\"PITA\": \"Pain In The A..\",\n",
    "\"PRT\": \"Party\",\n",
    "\"PRW\": \"Parents Are Watching\",\n",
    "\"ROFL\": \"Rolling On The Floor Laughing\",\n",
    "\"ROFLOL\": \"Rolling On The Floor Laughing Out Loud\",\n",
    "\"ROTFLMAO\": \"Rolling On The Floor Laughing My A.. Off\",\n",
    "\"SK8\": \"Skate\",\n",
    "\"STATS\": \"Your sex and age\",\n",
    "\"ASL\": \"ge, Sex, Location\",\n",
    "\"THX\": \"Thank You\",\n",
    "\"TTFN\": \"Ta-Ta For Now!\",\n",
    "\"TTYL\": \"Talk To You Later\",\n",
    "\"U\": \"You\",\n",
    "\"U2\": \"You Too\",\n",
    "\"U4E\":\"Yours For Ever\",\n",
    "\"WB\": \"Welcome Back\",\n",
    "\"WTF\": \"What The F...\",\n",
    "\"WTG\": \"Way To Go!\",\n",
    "\"WUF\": \"Where Are You From?\",\n",
    "\"W8\": \"Wait...\",\n",
    "\"7K\": \"Sick:-D Laugher\"\n",
    "}"
   ]
  },
  {
   "cell_type": "code",
   "execution_count": 22,
   "id": "b3253303",
   "metadata": {},
   "outputs": [],
   "source": [
    "def chat_conversation(text):\n",
    "    new_text=[]\n",
    "    for i in text.split():\n",
    "        if i.upper() in chat_words:\n",
    "            new_text.append(chat_words[i.upper()])\n",
    "        else:\n",
    "            new_text.append(i)\n",
    "    return \" \".join(new_text)"
   ]
  },
  {
   "cell_type": "code",
   "execution_count": 23,
   "id": "032748fa",
   "metadata": {},
   "outputs": [],
   "source": [
    "df[\"overview\"]=df[\"overview\"].apply(chat_conversation)"
   ]
  },
  {
   "cell_type": "code",
   "execution_count": 24,
   "id": "1679cdf7",
   "metadata": {},
   "outputs": [
    {
     "data": {
      "text/plain": [
       "0       the unlikely friendship of a boy a mole a fox ...\n",
       "1       spanning the years 1945 to 1955 a chronicle of...\n",
       "2       framed in the 1940s for the double murder of h...\n",
       "3       in the continuing saga of the corleone crime f...\n",
       "4       the true story of how businessman oskar schind...\n",
       "                              ...                        \n",
       "8555    fearing the actions of a godlike super hero le...\n",
       "8556    an everyday man has only three and a half days...\n",
       "8557    a valedictorians declaration of love for a hig...\n",
       "8558    lapd sgt joe friday the equally straightlaced ...\n",
       "8559    during a trip to germany to scatter their gran...\n",
       "Name: overview, Length: 8560, dtype: object"
      ]
     },
     "execution_count": 24,
     "metadata": {},
     "output_type": "execute_result"
    }
   ],
   "source": [
    "df[\"overview\"]"
   ]
  },
  {
   "cell_type": "markdown",
   "id": "92b8bc4d",
   "metadata": {},
   "source": [
    "# spelling correction"
   ]
  },
  {
   "cell_type": "code",
   "execution_count": 25,
   "id": "e2b8df72",
   "metadata": {},
   "outputs": [],
   "source": [
    "from textblob import TextBlob"
   ]
  },
  {
   "cell_type": "code",
   "execution_count": 26,
   "id": "3b1aa6c3",
   "metadata": {},
   "outputs": [],
   "source": [
    "# new_df=[]\n",
    "# for i in df[\"overview\"]:\n",
    "#     textblb=TextBlob(i)\n",
    "#     new_df.append(textblb.correct().string)"
   ]
  },
  {
   "cell_type": "code",
   "execution_count": 27,
   "id": "3b88ae82",
   "metadata": {},
   "outputs": [],
   "source": [
    "# new_df"
   ]
  },
  {
   "cell_type": "code",
   "execution_count": 28,
   "id": "3895d1b0",
   "metadata": {},
   "outputs": [],
   "source": [
    "# textBlb = TextBlob(df[\"overview\"])"
   ]
  },
  {
   "cell_type": "code",
   "execution_count": 29,
   "id": "fdd3e2d7",
   "metadata": {},
   "outputs": [
    {
     "data": {
      "text/plain": [
       "'the unlikely friendship of a boy a mole a fox and a horse traveling together in the boy’s search for home'"
      ]
     },
     "execution_count": 29,
     "metadata": {},
     "output_type": "execute_result"
    }
   ],
   "source": [
    "df[\"overview\"][0]"
   ]
  },
  {
   "cell_type": "code",
   "execution_count": 30,
   "id": "38647e27",
   "metadata": {},
   "outputs": [],
   "source": [
    "def spellCorrection(text):\n",
    "    new_overview=[]\n",
    "    for i in text.split():\n",
    "        textblob=TextBlob(i)\n",
    "        new_overview.append(textblob.correct().string)\n",
    "    return \" \".join(new_overview)\n",
    "    \n",
    "    "
   ]
  },
  {
   "cell_type": "code",
   "execution_count": 31,
   "id": "d351fda1",
   "metadata": {},
   "outputs": [
    {
     "data": {
      "text/plain": [
       "'the unlikely friendship of a boy a mole a fox and a horse traveling together in the boy’s search for home'"
      ]
     },
     "execution_count": 31,
     "metadata": {},
     "output_type": "execute_result"
    }
   ],
   "source": [
    "\n",
    "spellCorrection('the unlikely friendship of a boy a mole a fox and a horse traveling together in the boy’s search for home')"
   ]
  },
  {
   "cell_type": "code",
   "execution_count": null,
   "id": "75aed197",
   "metadata": {},
   "outputs": [],
   "source": [
    "df[\"overview\"].apply(spellCorrection)"
   ]
  },
  {
   "cell_type": "markdown",
   "id": "de475498",
   "metadata": {},
   "source": [
    "# Removing stop words"
   ]
  },
  {
   "cell_type": "code",
   "execution_count": null,
   "id": "30a4a93c",
   "metadata": {},
   "outputs": [],
   "source": [
    "from nltk.corpus import stopwords"
   ]
  },
  {
   "cell_type": "code",
   "execution_count": null,
   "id": "0e31a847",
   "metadata": {},
   "outputs": [],
   "source": [
    "stopwords.words(\"english\")"
   ]
  },
  {
   "cell_type": "code",
   "execution_count": null,
   "id": "de0d344d",
   "metadata": {},
   "outputs": [],
   "source": [
    "def remove_stopwords(text):\n",
    "    new_text=[]\n",
    "    for i in text.split():\n",
    "        if i in stopwords.words(\"english\"):\n",
    "            new_text.append(\"\")\n",
    "        else:\n",
    "            new_text.append(i)\n",
    "        \n",
    "    return \"\".join(new_text)"
   ]
  },
  {
   "cell_type": "code",
   "execution_count": null,
   "id": "644ca4d8",
   "metadata": {},
   "outputs": [],
   "source": [
    "df[\"overview\"].apply(remove_stopwords)"
   ]
  },
  {
   "cell_type": "code",
   "execution_count": null,
   "id": "0df07568",
   "metadata": {},
   "outputs": [],
   "source": [
    "df.head()"
   ]
  },
  {
   "cell_type": "markdown",
   "id": "af005e18",
   "metadata": {},
   "source": [
    "# Removing emojis"
   ]
  },
  {
   "cell_type": "code",
   "execution_count": null,
   "id": "7ebcbd4e",
   "metadata": {},
   "outputs": [],
   "source": [
    "import re\n",
    "def remove_emoji(text):\n",
    "    emoji_pattern = re.compile(\"[\"\n",
    "                           u\"\\U0001F600-\\U0001F64F\"  # emoticons\n",
    "                           u\"\\U0001F300-\\U0001F5FF\"  # symbols & pictographs\n",
    "                           u\"\\U0001F680-\\U0001F6FF\"  # transport & map symbols\n",
    "                           u\"\\U0001F1E0-\\U0001F1FF\"  # flags (iOS)\n",
    "                           u\"\\U00002702-\\U000027B0\"\n",
    "                           u\"\\U000024C2-\\U0001F251\"\n",
    "                           \"]+\", flags=re.UNICODE)\n",
    "    return emoji_pattern.sub(r'', text)"
   ]
  },
  {
   "cell_type": "code",
   "execution_count": null,
   "id": "e120c6d7",
   "metadata": {},
   "outputs": [],
   "source": [
    "remove_emoji(\"Loved the movie. It was 😘😘\")"
   ]
  },
  {
   "cell_type": "markdown",
   "id": "38b8e7e1",
   "metadata": {},
   "source": [
    "# Handaling emojis"
   ]
  },
  {
   "cell_type": "code",
   "execution_count": null,
   "id": "44cc1e93",
   "metadata": {},
   "outputs": [],
   "source": [
    "import emoji\n",
    "print(emoji.demojize('Python is 🔥'))"
   ]
  },
  {
   "cell_type": "code",
   "execution_count": null,
   "id": "8b6ed667",
   "metadata": {},
   "outputs": [],
   "source": [
    "print(emoji.demojize('Loved the movie. It was 😘'))"
   ]
  },
  {
   "cell_type": "markdown",
   "id": "701c9c33",
   "metadata": {},
   "source": [
    "# Tokenization\n",
    "### 1. Using the split function"
   ]
  },
  {
   "cell_type": "code",
   "execution_count": null,
   "id": "81e6ad10",
   "metadata": {},
   "outputs": [],
   "source": [
    "#word tokenize\n",
    "sent1=\"I am going to delhi\"\n",
    "sent1.split()"
   ]
  },
  {
   "cell_type": "code",
   "execution_count": null,
   "id": "c08a400c",
   "metadata": {},
   "outputs": [],
   "source": [
    "# sentence tokenization\n",
    "sent2 = 'I am going to delhi. I will stay there for 3 days. Let\\'s hope the trip to be great'\n",
    "sent2.split('.')"
   ]
  },
  {
   "cell_type": "code",
   "execution_count": null,
   "id": "ce721ead",
   "metadata": {},
   "outputs": [],
   "source": [
    "# Problems with split function\n",
    "sent3 = 'I am going to delhi!'\n",
    "sent3.split()"
   ]
  },
  {
   "cell_type": "markdown",
   "id": "320a6880",
   "metadata": {},
   "source": [
    "# 2. Regular Expression\n"
   ]
  },
  {
   "cell_type": "code",
   "execution_count": null,
   "id": "a23bb576",
   "metadata": {},
   "outputs": [],
   "source": [
    "# word tokenize\n",
    "import re\n",
    "sent3 = 'I am going to delhi!'\n",
    "tokens = re.findall(\"[\\w']+\", sent3)\n",
    "tokens"
   ]
  },
  {
   "cell_type": "code",
   "execution_count": null,
   "id": "15c90109",
   "metadata": {},
   "outputs": [],
   "source": [
    "# sentence tokenize\n",
    "text = \"\"\"Lorem Ipsum is simply dummy text of the printing and typesetting industry? \n",
    "Lorem Ipsum has been the industry's standard dummy text ever since the 1500s, \n",
    "when an unknown printer took a galley of type and scrambled it to make a type specimen book.\"\"\"\n",
    "sentences = re.compile('[.!?] ').split(text)\n",
    "sentences"
   ]
  },
  {
   "cell_type": "markdown",
   "id": "8984487b",
   "metadata": {},
   "source": [
    "# 3. NLTK"
   ]
  },
  {
   "cell_type": "code",
   "execution_count": null,
   "id": "ab321fec",
   "metadata": {},
   "outputs": [],
   "source": [
    "from nltk.tokenize import word_tokenize,sent_tokenize"
   ]
  },
  {
   "cell_type": "code",
   "execution_count": null,
   "id": "76af123d",
   "metadata": {},
   "outputs": [],
   "source": [
    "sent1 = 'I am going to visit delhi!'\n",
    "word_tokenize(sent1)"
   ]
  },
  {
   "cell_type": "code",
   "execution_count": null,
   "id": "770f0726",
   "metadata": {},
   "outputs": [],
   "source": [
    "text = \"\"\"Lorem Ipsum is simply dummy text of the printing and typesetting industry? \n",
    "Lorem Ipsum has been the industry's standard dummy text ever since the 1500s, \n",
    "when an unknown printer took a galley of type and scrambled it to make a type specimen book.\"\"\"\n",
    "\n",
    "sent_tokenize(text)"
   ]
  },
  {
   "cell_type": "markdown",
   "id": "3f7cb0c7",
   "metadata": {},
   "source": [
    "# 4. Spacy"
   ]
  },
  {
   "cell_type": "code",
   "execution_count": null,
   "id": "b1e441bc",
   "metadata": {},
   "outputs": [],
   "source": [
    "import spacy\n",
    "nlp = spacy.load('en_core_web_sm')"
   ]
  },
  {
   "cell_type": "code",
   "execution_count": null,
   "id": "5e4f45ab",
   "metadata": {},
   "outputs": [],
   "source": [
    "sent5 = 'I have a Ph.D in A.I'\n",
    "sent6 = \"We're here to help! mail us at nks@gmail.com\"\n",
    "sent7 = 'A 5km ride cost $10.50'\n"
   ]
  },
  {
   "cell_type": "code",
   "execution_count": null,
   "id": "e0c78731",
   "metadata": {},
   "outputs": [],
   "source": [
    "sent5 = 'I have a Ph.D in A.I'\n",
    "sent6 = \"We're here to help! mail us at nks@gmail.com\"\n",
    "sent7 = 'A 5km ride cost $10.50'\n"
   ]
  },
  {
   "cell_type": "code",
   "execution_count": null,
   "id": "f66b2f87",
   "metadata": {},
   "outputs": [],
   "source": [
    "for token in doc4:\n",
    "    print(token)"
   ]
  },
  {
   "cell_type": "markdown",
   "id": "7bece976",
   "metadata": {},
   "source": [
    "# Stremming\n",
    "- porterstremer"
   ]
  },
  {
   "cell_type": "code",
   "execution_count": null,
   "id": "13c3bd85",
   "metadata": {},
   "outputs": [],
   "source": [
    "from nltk.stem.porter import PorterStemmer"
   ]
  },
  {
   "cell_type": "code",
   "execution_count": null,
   "id": "c919255f",
   "metadata": {},
   "outputs": [],
   "source": [
    "ps = PorterStemmer()\n",
    "def stem_words(text):\n",
    "    return \" \".join([ps.stem(word) for word in text.split()])"
   ]
  },
  {
   "cell_type": "code",
   "execution_count": null,
   "id": "c8ed991a",
   "metadata": {},
   "outputs": [],
   "source": [
    "sample = \"walk walks walking walked\"\n",
    "stem_words(sample)"
   ]
  },
  {
   "cell_type": "markdown",
   "id": "c4c21be0",
   "metadata": {},
   "source": [
    "# Lemmatization\n",
    "- word lemmatizer"
   ]
  },
  {
   "cell_type": "code",
   "execution_count": null,
   "id": "47ce8633",
   "metadata": {},
   "outputs": [],
   "source": [
    "#alternative of PorterStemmer which is used some problem occurs by PorterStemmer like spelling mistake\n",
    "import nltk\n",
    "from nltk.stem import WordNetLemmatizer\n",
    "wordnet_lemmatizer = WordNetLemmatizer()\n",
    "\n",
    "sentence = \"He was running and eating at same time. He has bad habit of swimming after playing long hours in the Sun.\"\n",
    "punctuations=\"?:!.,;\"\n",
    "sentence_words = nltk.word_tokenize(sentence)\n",
    "for word in sentence_words:\n",
    "    if word in punctuations:\n",
    "        sentence_words.remove(word)\n",
    "\n",
    "sentence_words\n",
    "print(\"{0:20}{1:20}\".format(\"Word\",\"Lemma\"))\n",
    "for word in sentence_words:\n",
    "    print (\"{0:20}{1:20}\".format(word,wordnet_lemmatizer.lemmatize(word,pos='v')))#parts of speach select korte hoi"
   ]
  },
  {
   "cell_type": "code",
   "execution_count": null,
   "id": "60daca1b",
   "metadata": {},
   "outputs": [],
   "source": []
  }
 ],
 "metadata": {
  "kernelspec": {
   "display_name": "Python 3 (ipykernel)",
   "language": "python",
   "name": "python3"
  },
  "language_info": {
   "codemirror_mode": {
    "name": "ipython",
    "version": 3
   },
   "file_extension": ".py",
   "mimetype": "text/x-python",
   "name": "python",
   "nbconvert_exporter": "python",
   "pygments_lexer": "ipython3",
   "version": "3.9.7"
  }
 },
 "nbformat": 4,
 "nbformat_minor": 5
}
