{
 "cells": [
  {
   "cell_type": "code",
   "execution_count": null,
   "metadata": {
    "id": "wyJHQNhzOzZU"
   },
   "outputs": [],
   "source": [
    "import gensim\n",
    "from gensim.models import Word2Vec,KeyedVectors"
   ]
  },
  {
   "cell_type": "code",
   "execution_count": null,
   "metadata": {
    "colab": {
     "base_uri": "https://localhost:8080/"
    },
    "id": "1FGJIeqRPClh",
    "outputId": "1bff2af7-6022-4962-dfae-a74ff766c644"
   },
   "outputs": [],
   "source": [
    "!pip install wget"
   ]
  },
  {
   "cell_type": "code",
   "execution_count": null,
   "metadata": {
    "colab": {
     "base_uri": "https://localhost:8080/"
    },
    "id": "KlzDUL9iPObP",
    "outputId": "bd97ded5-955c-4dbf-8272-af5d8db7ae06"
   },
   "outputs": [],
   "source": [
    "# Download Google Word2vec embeddings\n",
    "!wget -c \"https://s3.amazonaws.com/dl4j-distribution/GoogleNews-vectors-negative300.bin.gz\"\n"
   ]
  },
  {
   "cell_type": "code",
   "execution_count": null,
   "metadata": {
    "colab": {
     "base_uri": "https://localhost:8080/"
    },
    "id": "qNoeTkfWYDA0",
    "outputId": "a75cbbbe-cf13-4e3a-b863-89036b374725"
   },
   "outputs": [],
   "source": [
    "!wget --save-cookies cookies.txt --keep-session-cookies --no-check-certificate 'https://docs.google.com/uc?export=download&id=0B7XkCwpI5KDYNlNUTTlSS21pQmM' -O- | sed -rn 's/.*confirm=([0-9A-Za-z_]+).*/Code: \\1\\n/p'"
   ]
  },
  {
   "cell_type": "code",
   "execution_count": null,
   "metadata": {
    "colab": {
     "base_uri": "https://localhost:8080/"
    },
    "id": "KTOfBkX6YK8L",
    "outputId": "ef053aea-3bce-4789-dafe-7ae794af2deb"
   },
   "outputs": [],
   "source": [
    "!wget --load-cookies cookies.txt 'https://docs.google.com/uc?export=download&confirm=YOURCODEID&id=0B7XkCwpI5KDYNlNUTTlSS21pQmM' -O GoogleNews-vectors-negative300.bin.gz"
   ]
  },
  {
   "cell_type": "code",
   "execution_count": null,
   "metadata": {
    "id": "1kHofo97US4s"
   },
   "outputs": [],
   "source": [
    "# !wget -c \"https://s3.amazonaws.com/dl4j-distribution/GoogleNews-vectors-negative300.bin.gz\"\n"
   ]
  },
  {
   "cell_type": "code",
   "execution_count": null,
   "metadata": {
    "id": "HVytrLp6UiMx"
   },
   "outputs": [],
   "source": [
    "model=KeyedVectors.load_word2vec_format(\"GoogleNews-vectors-negative300.bin.gz\", binary=True)\n"
   ]
  },
  {
   "cell_type": "code",
   "execution_count": null,
   "metadata": {
    "colab": {
     "base_uri": "https://localhost:8080/"
    },
    "id": "P-anM23ug7d4",
    "outputId": "a0e6e0b8-8db2-4f57-fd3a-9fc7e6e324ed"
   },
   "outputs": [],
   "source": [
    "model['Nasrin'].shape\n"
   ]
  },
  {
   "cell_type": "code",
   "execution_count": null,
   "metadata": {
    "colab": {
     "base_uri": "https://localhost:8080/"
    },
    "id": "M8P521JFg9W3",
    "outputId": "319d0c1f-a50f-47a8-95c0-876b42aff38f"
   },
   "outputs": [],
   "source": [
    "model.most_similar(\"riad\")"
   ]
  },
  {
   "cell_type": "code",
   "execution_count": null,
   "metadata": {
    "colab": {
     "base_uri": "https://localhost:8080/"
    },
    "id": "DlQ0_q78k2mX",
    "outputId": "92a1d9d9-f902-4e6a-b971-e71d4c5557f1"
   },
   "outputs": [],
   "source": [
    "model.most_similar(\"cricket\")"
   ]
  },
  {
   "cell_type": "code",
   "execution_count": null,
   "metadata": {
    "colab": {
     "base_uri": "https://localhost:8080/"
    },
    "id": "gcnvxr2F1Gol",
    "outputId": "823ae71d-beab-4ca7-d3cc-6c4708111c0d"
   },
   "outputs": [],
   "source": [
    "model.similarity(\"man\",\"woman\")"
   ]
  },
  {
   "cell_type": "code",
   "execution_count": null,
   "metadata": {
    "colab": {
     "base_uri": "https://localhost:8080/",
     "height": 92
    },
    "id": "Pn7YZV_Q1W0A",
    "outputId": "6ea19cfc-3db8-4321-cfca-363d144036a4"
   },
   "outputs": [],
   "source": [
    "model.doesnt_match([\"man\",\"woman\",\"riad\"])"
   ]
  },
  {
   "cell_type": "code",
   "execution_count": null,
   "metadata": {
    "id": "9sEgk2mz1l0w"
   },
   "outputs": [],
   "source": [
    "vec=model[\"king\"]-model[\"man\"]+model[\"woman\"]"
   ]
  },
  {
   "cell_type": "code",
   "execution_count": null,
   "metadata": {
    "colab": {
     "base_uri": "https://localhost:8080/"
    },
    "id": "vq5h8ZBm2Cfn",
    "outputId": "01c4d933-2a4c-437f-e1ac-ab4cb82bb7ea"
   },
   "outputs": [],
   "source": [
    "model[\"king\"].shape"
   ]
  },
  {
   "cell_type": "code",
   "execution_count": null,
   "metadata": {
    "colab": {
     "base_uri": "https://localhost:8080/"
    },
    "id": "ooRUt5b_2IRH",
    "outputId": "d1b1b8af-6011-4a3e-c8ec-6f0900b9a1a0"
   },
   "outputs": [],
   "source": [
    "model.most_similar([vec])"
   ]
  },
  {
   "cell_type": "code",
   "execution_count": null,
   "metadata": {
    "id": "sKRQOqix2uW3"
   },
   "outputs": [],
   "source": []
  }
 ],
 "metadata": {
  "accelerator": "GPU",
  "colab": {
   "provenance": []
  },
  "gpuClass": "standard",
  "kernelspec": {
   "display_name": "Python 3 (ipykernel)",
   "language": "python",
   "name": "python3"
  },
  "language_info": {
   "codemirror_mode": {
    "name": "ipython",
    "version": 3
   },
   "file_extension": ".py",
   "mimetype": "text/x-python",
   "name": "python",
   "nbconvert_exporter": "python",
   "pygments_lexer": "ipython3",
   "version": "3.9.7"
  }
 },
 "nbformat": 4,
 "nbformat_minor": 1
}
